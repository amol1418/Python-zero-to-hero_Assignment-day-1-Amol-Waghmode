{
  "nbformat": 4,
  "nbformat_minor": 0,
  "metadata": {
    "colab": {
      "name": "Day 1.ipynb",
      "provenance": [],
      "authorship_tag": "ABX9TyPUrtQvBHEiVdJadhnzFs3V",
      "include_colab_link": true
    },
    "kernelspec": {
      "name": "python3",
      "display_name": "Python 3"
    },
    "language_info": {
      "name": "python"
    }
  },
  "cells": [
    {
      "cell_type": "markdown",
      "metadata": {
        "id": "view-in-github",
        "colab_type": "text"
      },
      "source": [
        "<a href=\"https://colab.research.google.com/github/amol1418/Python-zero-to-hero_Assignment-day-1-Amol-Waghmode/blob/main/Day_1.ipynb\" target=\"_parent\"><img src=\"https://colab.research.google.com/assets/colab-badge.svg\" alt=\"Open In Colab\"/></a>"
      ]
    },
    {
      "cell_type": "code",
      "metadata": {
        "colab": {
          "base_uri": "https://localhost:8080/"
        },
        "id": "-_Z_0G8FCvfq",
        "outputId": "be5290de-3095-4158-d4c1-35196150b7c5"
      },
      "source": [
        "print('hello', end = ' ')\n",
        "print('coders')"
      ],
      "execution_count": 6,
      "outputs": [
        {
          "output_type": "stream",
          "text": [
            "hello coders\n"
          ],
          "name": "stdout"
        }
      ]
    },
    {
      "cell_type": "code",
      "metadata": {
        "colab": {
          "base_uri": "https://localhost:8080/"
        },
        "id": "MrCKKyer4oKF",
        "outputId": "b626fd42-0245-4e6f-d01a-743902244e79"
      },
      "source": [
        "a= 45.4645\n",
        "print(type(a))\n",
        "\n"
      ],
      "execution_count": 24,
      "outputs": [
        {
          "output_type": "stream",
          "text": [
            "<class 'float'>\n"
          ],
          "name": "stdout"
        }
      ]
    },
    {
      "cell_type": "code",
      "metadata": {
        "colab": {
          "base_uri": "https://localhost:8080/"
        },
        "id": "XO85VvxO6ysv",
        "outputId": "1b947378-10b7-4d3d-be65-b00298e1a4f1"
      },
      "source": [
        "a = b = c = 30\n",
        "print(a, b, c)\n",
        "print(id(a), id(b), id(c))\n"
      ],
      "execution_count": 31,
      "outputs": [
        {
          "output_type": "stream",
          "text": [
            "30 30 30\n",
            "94016762903968 94016762903968 94016762903968\n"
          ],
          "name": "stdout"
        }
      ]
    },
    {
      "cell_type": "code",
      "metadata": {
        "colab": {
          "base_uri": "https://localhost:8080/"
        },
        "id": "s57GHFRH8IW7",
        "outputId": "bbb6f391-3b1e-40d5-8b4c-937490bf092b"
      },
      "source": [
        "a = b = c = 30\n",
        "\n",
        "print(id(a), id(b), id(c))\n",
        "\n",
        "\n",
        "b = 20\n",
        "print(a, b, c )\n",
        "print(id(a), id(b), id(c))\n",
        "print(type(id(a)))"
      ],
      "execution_count": 48,
      "outputs": [
        {
          "output_type": "stream",
          "text": [
            "94016762903968 94016762903968 94016762903968\n",
            "30 20 30\n",
            "94016762903968 94016762903648 94016762903968\n",
            "<class 'int'>\n"
          ],
          "name": "stdout"
        }
      ]
    },
    {
      "cell_type": "code",
      "metadata": {
        "colab": {
          "base_uri": "https://localhost:8080/"
        },
        "id": "e9p04GN__ay8",
        "outputId": "67c55fb3-2de1-4b0b-d1e8-500bfae43ac1"
      },
      "source": [
        "x = int((input('enter first value')))\n",
        "y = int((input('enter second value')))\n",
        "\n",
        "print (x+y)\n",
        "print(type(x), type(y))\n",
        "                    "
      ],
      "execution_count": 57,
      "outputs": [
        {
          "output_type": "stream",
          "text": [
            "enter first value25\n",
            "enter second value36\n",
            "61\n",
            "<class 'int'> <class 'int'>\n"
          ],
          "name": "stdout"
        }
      ]
    },
    {
      "cell_type": "code",
      "metadata": {
        "colab": {
          "base_uri": "https://localhost:8080/"
        },
        "id": "bBiPlI0U6Opi",
        "outputId": "2e9f1a22-5091-48f9-9a47-77eb882a10be"
      },
      "source": [
        "x = input('enter the values:')\n",
        "print(type(x))\n",
        "val = x.split()\n",
        "print(val)"
      ],
      "execution_count": 60,
      "outputs": [
        {
          "output_type": "stream",
          "text": [
            "enter the values:10 20 30 40 50\n",
            "<class 'str'>\n",
            "['10', '20', '30', '40', '50']\n"
          ],
          "name": "stdout"
        }
      ]
    },
    {
      "cell_type": "code",
      "metadata": {
        "colab": {
          "base_uri": "https://localhost:8080/"
        },
        "id": "aWpc1p-wEECy",
        "outputId": "e483c561-d20c-43c2-c5ee-2a80348e436b"
      },
      "source": [
        "x = input('enter the values:')\n",
        "print(type(x))\n",
        "val=[int(i) for i in x.split()]\n",
        "print(val)"
      ],
      "execution_count": 63,
      "outputs": [
        {
          "output_type": "stream",
          "text": [
            "enter the values:10 20 30 40 50\n",
            "<class 'str'>\n",
            "[10, 20, 30, 40, 50]\n"
          ],
          "name": "stdout"
        }
      ]
    },
    {
      "cell_type": "code",
      "metadata": {
        "colab": {
          "base_uri": "https://localhost:8080/"
        },
        "id": "KEPjtTdlExl5",
        "outputId": "fd01b6ec-d696-4853-b7b1-3755078860c9"
      },
      "source": [
        "li=('amol',20, 30.12, '@')\n",
        "print(li)"
      ],
      "execution_count": 68,
      "outputs": [
        {
          "output_type": "stream",
          "text": [
            "('amol', 20, 30.12, '@')\n"
          ],
          "name": "stdout"
        }
      ]
    },
    {
      "cell_type": "code",
      "metadata": {
        "colab": {
          "base_uri": "https://localhost:8080/"
        },
        "id": "EP4bKeQbFj47",
        "outputId": "5f94c494-4b27-4e7a-fc09-b18de3c358c4"
      },
      "source": [
        "li=[12, 45, 28, 5, 7]\n",
        "li.sort()\n",
        "print(li)\n",
        "li.reverse()\n",
        "print(li)"
      ],
      "execution_count": 81,
      "outputs": [
        {
          "output_type": "stream",
          "text": [
            "[5, 7, 12, 28, 45]\n",
            "[45, 28, 12, 7, 5]\n"
          ],
          "name": "stdout"
        }
      ]
    },
    {
      "cell_type": "code",
      "metadata": {
        "id": "K8j2SU1eG743"
      },
      "source": [
        ""
      ],
      "execution_count": null,
      "outputs": []
    },
    {
      "cell_type": "code",
      "metadata": {
        "colab": {
          "base_uri": "https://localhost:8080/"
        },
        "id": "ZwW4F4CRG78U",
        "outputId": "28f7183f-20c0-4cca-8f6a-38fe4b488a13"
      },
      "source": [
        "li=[12, 5, 45, 5, 8, 9, 12 ]\n",
        "print(li[0:5])"
      ],
      "execution_count": 79,
      "outputs": [
        {
          "output_type": "stream",
          "text": [
            "[12, 5, 45, 5, 8]\n"
          ],
          "name": "stdout"
        }
      ]
    },
    {
      "cell_type": "code",
      "metadata": {
        "id": "THrOjLKWF5D5"
      },
      "source": [
        ""
      ],
      "execution_count": null,
      "outputs": []
    }
  ]
}