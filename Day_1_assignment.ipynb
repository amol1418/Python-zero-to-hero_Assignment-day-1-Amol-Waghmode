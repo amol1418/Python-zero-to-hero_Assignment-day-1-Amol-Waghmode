{
  "nbformat": 4,
  "nbformat_minor": 0,
  "metadata": {
    "colab": {
      "name": "Day 1 assignment.ipynb",
      "provenance": [],
      "authorship_tag": "ABX9TyPPp1xNUz5R/ozCVBDn7IGV",
      "include_colab_link": true
    },
    "kernelspec": {
      "name": "python3",
      "display_name": "Python 3"
    },
    "language_info": {
      "name": "python"
    }
  },
  "cells": [
    {
      "cell_type": "markdown",
      "metadata": {
        "id": "view-in-github",
        "colab_type": "text"
      },
      "source": [
        "<a href=\"https://colab.research.google.com/github/amol1418/Python-zero-to-hero_Assignment-day-1-Amol-Waghmode/blob/main/Day_1_assignment.ipynb\" target=\"_parent\"><img src=\"https://colab.research.google.com/assets/colab-badge.svg\" alt=\"Open In Colab\"/></a>"
      ]
    },
    {
      "cell_type": "code",
      "metadata": {
        "colab": {
          "base_uri": "https://localhost:8080/"
        },
        "id": "VOb1tQmpIo3r",
        "outputId": "8033885e-c8f5-4bd1-c1dc-8ce4484c0c7a"
      },
      "source": [
        "li = [int(i) for i in input('enter the values:').split()]\n",
        "\n",
        "li.sort()\n",
        "print(li)\n",
        "\n",
        "li.reverse()\n",
        "\n",
        "print(li)"
      ],
      "execution_count": 17,
      "outputs": [
        {
          "output_type": "stream",
          "text": [
            "enter the values: 12 58 69 14\n",
            "[12, 14, 58, 69]\n",
            "[69, 58, 14, 12]\n"
          ],
          "name": "stdout"
        }
      ]
    }
  ]
}